import numpy as np
import matplotlib.pyplot as plt
import pandas as pd
import zipfile 











# Path to dataset
path_file = "data/spotify_most_streamed_2024.zip"

# Open the dataset

with zipfile.ZipFile(path_file) as z:
    print(z.namelist())
    with z.open ("Most Streamed Spotify Songs 2024.csv") as f:
        #songs_spofity=pd.read_csv(f, encoding = "unicode_escape")
        songs_spofity=pd.read_csv(f, encoding ="latin1")


songs_spofity


songs_spofity.info()





songs_spofity["Artist"].value_counts()  










































