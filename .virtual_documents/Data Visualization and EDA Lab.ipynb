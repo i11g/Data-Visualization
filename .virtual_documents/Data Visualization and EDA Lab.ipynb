import numpy as np
import matplotlib.pyplot as plt
import pandas as pd
import zipfile
import re 











# Path to dataset
path_file = "data/spotify_most_streamed_2024.zip"

# Open the dataset
with zipfile.ZipFile(path_file) as z:
    
    # List all files inside the ZIP file
    print(z.namelist())
    
    # Open the ZIP file
    with z.open ("Most Streamed Spotify Songs 2024.csv") as f:
        # songs_spofity=pd.read_csv(f, encoding = "unicode_escape")
        songs_spotify=pd.read_csv(f, encoding ="unicode_escape")


songs_spotify


songs_spotify.describe().T





songs_spotify.dtypes


songs_spotify.info()


songs_spotify.columns


def clean_column(name):
    # Convert to lower case
    name = name.lower()
    # remove special characters
    name = re.sub(r'[^a-z0-9\s]', '', name)
    # replace spaces with underscores
    name = re.sub(r'\s+', '_', name)
    return name

songs_spotify.columns = songs_spotify.columns.to_series().apply(clean_column)


songs_spotify.columns





songs_spotify["artist"].value_counts().head(5)


songs_spotify["explicit_track"].value_counts()


songs_clean = songs_spotify[songs_spotify["explicit_track"]==False]


clean_mounthed_artist=songs_clean["artist"].value_counts().head(5)


clean_mounthed_artist





songs_spotify["spotify_streams"].value_counts()


songs_spotify["spotify_streams"].dtype
# The value type of the column is object


# Covert the value of the column to float
songs_spotify["spotify_streams"]=songs_spotify["spotify_streams"].replace(',', '', regex=True).astype(float)


songs_spotify["spotify_streams"].dtype


# Group the Spotify streams by artist and sum their values
streamed_top = songs_spotify.groupby("artist")["spotify_streams"].sum()


# Sort in descending order and get the top 5
top_streamed_artist = streamed_top.sort_values(ascending=False).head(5)


top_streamed_artist


plt.bar(top_streamed_artist.index, top_streamed_artist, color='skyblue')
plt.xlabel("Top Streamed Artist")
plt.ylabel("Total Spotify Streams")
plt.title("Top 5 Most Streamed Artists on Spotify")
plt.tight_layout()
plt.grid(axis='y')
plt.show()





songs_spotify["release_date"]


songs_spotify["release_date"].isna().sum()


songs_spotify["release_date"].dtype


songs_spotify["release_date"]


# Covert it to datetime format
songs_spotify["release_date"] = pd.to_datetime(songs_spotify["release_date"], errors="coerce")


songs_spotify["release_year"] = songs_spotify["release_date"].dt.year


songs_per_year = songs_spotify["release_year"].value_counts().sort_index()


songs_per_year























# pd.set_option('display.max_rows', 1000)


songs_spofity[songs_spofity["Track"].str.contains(r"[^a-zA-Z0-9\s\-\,.!?()]", na = False)].head(10)


#problematic_rows = songs_spofity[songs_spofity['Track'].str.contains(r"[^a-zA-Z0-9\s\-\'.,!?()]", na=False)]


pattern = r"[^a-zA-Z0-9\s\-\',.!?()&/:_]"


problematic_rows = songs_spofity[songs_spofity['Track'].str.contains(pattern, na=False, regex=True)]


def extract_strange_chars(s):
    if pd.isna(s):
        return ''
    return ''.join(re.findall(pattern, s))

songs_spofity['strange_chars'] = songs_spofity['Track'].apply(extract_strange_chars)
songs_spofity[songs_spofity['strange_chars'] != ''][['Track', 'strange_chars']].head(10)


problematic_rows_1 = songs_spofity[
    songs_spofity['Track'].str.contains(pattern, na=False) |
    songs_spofity['Album Name'].str.contains(pattern, na=False) |
    songs_spofity['Artist'].str.contains(pattern, na=False)]


def try_recover(text):
    if pd.isna(text): return text
    try:
        return text.encode('latin1').decode('utf-8')
    except:
        return text  # fallback if decoding fails

songs_spofity['Track_fixed'] = songs_spofity['Track'].apply(try_recover)
songs_spofity['Album_fixed'] = songs_spofity['Album Name'].apply(try_recover)


import re

def clean_strange(text):
    if pd.isna(text): return text
    return re.sub(r"ï[^a-zA-Z0-9\s\[\]()\"']*", '', text)

songs_spofity['Track_clean'] = songs_spofity['Track'].apply(clean_strange)


pattern = r"ï[^a-zA-Z0-9\s\[\]()\"']*" 


problematic_rows_3 = songs_spofity[songs_spofity['Track_clean'].str.contains(pattern, na=False)]
