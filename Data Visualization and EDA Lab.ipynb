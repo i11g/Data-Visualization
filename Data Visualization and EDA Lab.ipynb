{
 "cells": [
  {
   "cell_type": "code",
   "execution_count": 1,
   "id": "1b1927be-b3ca-4858-93e1-83348b9b931e",
   "metadata": {},
   "outputs": [],
   "source": [
    "import numpy as np\n",
    "import matplotlib.pyplot as plt\n",
    "import pandas as pd\n",
    "import zipfile\n",
    "import re "
   ]
  },
  {
   "cell_type": "markdown",
   "id": "0a1bacf2-619d-4a97-bf91-e791cee8ce99",
   "metadata": {},
   "source": [
    "# Data Visualization and Exploratory Data Analysis Lab\n",
    "## Visualizing and exploring data. The data mining process"
   ]
  },
  {
   "cell_type": "markdown",
   "id": "7dd6a75a-59db-4b6f-b51c-79cfbffcef45",
   "metadata": {},
   "source": [
    "In this lab, you'll get acquainted with the most streamed songs on Spotify in 2024. The dataset and its associated metadata can be found [here](https://www.kaggle.com/datasets/nelgiriyewithana/most-streamed-spotify-songs-2024). The version you'll need is provided in the `data/` folder.\n",
    "\n",
    "You know the drill. Do what you can / want / need to answer the questions to the best of your ability. Answers do not need to be trivial, or even the same among different people."
   ]
  },
  {
   "cell_type": "markdown",
   "id": "b8cfbf65-857c-464e-98df-b6425b0b571d",
   "metadata": {},
   "source": [
    "### Problem 1. Read the dataset (1 point)\n",
    "Read the file without unzipping it first. You can try a different character encoding, like `unicode_escape`. Don't worry too much about weird characters."
   ]
  },
  {
   "cell_type": "code",
   "execution_count": 5,
   "id": "00d7946c-3f48-476e-8213-42d816ec1db2",
   "metadata": {},
   "outputs": [
    {
     "name": "stdout",
     "output_type": "stream",
     "text": [
      "['Most Streamed Spotify Songs 2024.csv']\n"
     ]
    }
   ],
   "source": [
    "# Path to dataset\n",
    "path_file = \"data/spotify_most_streamed_2024.zip\"\n",
    "\n",
    "# Open the dataset\n",
    "with zipfile.ZipFile(path_file) as z:\n",
    "    \n",
    "    # List all files inside the ZIP file\n",
    "    print(z.namelist())\n",
    "    \n",
    "    # Open the ZIP file\n",
    "    with z.open (\"Most Streamed Spotify Songs 2024.csv\") as f:\n",
    "        # songs_spofity=pd.read_csv(f, encoding = \"unicode_escape\")\n",
    "        songs_spotify=pd.read_csv(f, encoding =\"unicode_escape\")"
   ]
  },
  {
   "cell_type": "code",
   "execution_count": 6,
   "id": "983fc676-d218-49bb-9144-0bb3f8734ee2",
   "metadata": {},
   "outputs": [
    {
     "data": {
      "text/html": [
       "<div>\n",
       "<style scoped>\n",
       "    .dataframe tbody tr th:only-of-type {\n",
       "        vertical-align: middle;\n",
       "    }\n",
       "\n",
       "    .dataframe tbody tr th {\n",
       "        vertical-align: top;\n",
       "    }\n",
       "\n",
       "    .dataframe thead th {\n",
       "        text-align: right;\n",
       "    }\n",
       "</style>\n",
       "<table border=\"1\" class=\"dataframe\">\n",
       "  <thead>\n",
       "    <tr style=\"text-align: right;\">\n",
       "      <th></th>\n",
       "      <th>Track</th>\n",
       "      <th>Album Name</th>\n",
       "      <th>Artist</th>\n",
       "      <th>Release Date</th>\n",
       "      <th>ISRC</th>\n",
       "      <th>All Time Rank</th>\n",
       "      <th>Track Score</th>\n",
       "      <th>Spotify Streams</th>\n",
       "      <th>Spotify Playlist Count</th>\n",
       "      <th>Spotify Playlist Reach</th>\n",
       "      <th>...</th>\n",
       "      <th>SiriusXM Spins</th>\n",
       "      <th>Deezer Playlist Count</th>\n",
       "      <th>Deezer Playlist Reach</th>\n",
       "      <th>Amazon Playlist Count</th>\n",
       "      <th>Pandora Streams</th>\n",
       "      <th>Pandora Track Stations</th>\n",
       "      <th>Soundcloud Streams</th>\n",
       "      <th>Shazam Counts</th>\n",
       "      <th>TIDAL Popularity</th>\n",
       "      <th>Explicit Track</th>\n",
       "    </tr>\n",
       "  </thead>\n",
       "  <tbody>\n",
       "    <tr>\n",
       "      <th>0</th>\n",
       "      <td>MILLION DOLLAR BABY</td>\n",
       "      <td>Million Dollar Baby - Single</td>\n",
       "      <td>Tommy Richman</td>\n",
       "      <td>4/26/2024</td>\n",
       "      <td>QM24S2402528</td>\n",
       "      <td>1</td>\n",
       "      <td>725.4</td>\n",
       "      <td>390,470,936</td>\n",
       "      <td>30,716</td>\n",
       "      <td>196,631,588</td>\n",
       "      <td>...</td>\n",
       "      <td>684</td>\n",
       "      <td>62.0</td>\n",
       "      <td>17,598,718</td>\n",
       "      <td>114.0</td>\n",
       "      <td>18,004,655</td>\n",
       "      <td>22,931</td>\n",
       "      <td>4,818,457</td>\n",
       "      <td>2,669,262</td>\n",
       "      <td>NaN</td>\n",
       "      <td>0</td>\n",
       "    </tr>\n",
       "    <tr>\n",
       "      <th>1</th>\n",
       "      <td>Not Like Us</td>\n",
       "      <td>Not Like Us</td>\n",
       "      <td>Kendrick Lamar</td>\n",
       "      <td>5/4/2024</td>\n",
       "      <td>USUG12400910</td>\n",
       "      <td>2</td>\n",
       "      <td>545.9</td>\n",
       "      <td>323,703,884</td>\n",
       "      <td>28,113</td>\n",
       "      <td>174,597,137</td>\n",
       "      <td>...</td>\n",
       "      <td>3</td>\n",
       "      <td>67.0</td>\n",
       "      <td>10,422,430</td>\n",
       "      <td>111.0</td>\n",
       "      <td>7,780,028</td>\n",
       "      <td>28,444</td>\n",
       "      <td>6,623,075</td>\n",
       "      <td>1,118,279</td>\n",
       "      <td>NaN</td>\n",
       "      <td>1</td>\n",
       "    </tr>\n",
       "    <tr>\n",
       "      <th>2</th>\n",
       "      <td>i like the way you kiss me</td>\n",
       "      <td>I like the way you kiss me</td>\n",
       "      <td>Artemas</td>\n",
       "      <td>3/19/2024</td>\n",
       "      <td>QZJ842400387</td>\n",
       "      <td>3</td>\n",
       "      <td>538.4</td>\n",
       "      <td>601,309,283</td>\n",
       "      <td>54,331</td>\n",
       "      <td>211,607,669</td>\n",
       "      <td>...</td>\n",
       "      <td>536</td>\n",
       "      <td>136.0</td>\n",
       "      <td>36,321,847</td>\n",
       "      <td>172.0</td>\n",
       "      <td>5,022,621</td>\n",
       "      <td>5,639</td>\n",
       "      <td>7,208,651</td>\n",
       "      <td>5,285,340</td>\n",
       "      <td>NaN</td>\n",
       "      <td>0</td>\n",
       "    </tr>\n",
       "    <tr>\n",
       "      <th>3</th>\n",
       "      <td>Flowers</td>\n",
       "      <td>Flowers - Single</td>\n",
       "      <td>Miley Cyrus</td>\n",
       "      <td>1/12/2023</td>\n",
       "      <td>USSM12209777</td>\n",
       "      <td>4</td>\n",
       "      <td>444.9</td>\n",
       "      <td>2,031,280,633</td>\n",
       "      <td>269,802</td>\n",
       "      <td>136,569,078</td>\n",
       "      <td>...</td>\n",
       "      <td>2,182</td>\n",
       "      <td>264.0</td>\n",
       "      <td>24,684,248</td>\n",
       "      <td>210.0</td>\n",
       "      <td>190,260,277</td>\n",
       "      <td>203,384</td>\n",
       "      <td>NaN</td>\n",
       "      <td>11,822,942</td>\n",
       "      <td>NaN</td>\n",
       "      <td>0</td>\n",
       "    </tr>\n",
       "    <tr>\n",
       "      <th>4</th>\n",
       "      <td>Houdini</td>\n",
       "      <td>Houdini</td>\n",
       "      <td>Eminem</td>\n",
       "      <td>5/31/2024</td>\n",
       "      <td>USUG12403398</td>\n",
       "      <td>5</td>\n",
       "      <td>423.3</td>\n",
       "      <td>107,034,922</td>\n",
       "      <td>7,223</td>\n",
       "      <td>151,469,874</td>\n",
       "      <td>...</td>\n",
       "      <td>1</td>\n",
       "      <td>82.0</td>\n",
       "      <td>17,660,624</td>\n",
       "      <td>105.0</td>\n",
       "      <td>4,493,884</td>\n",
       "      <td>7,006</td>\n",
       "      <td>207,179</td>\n",
       "      <td>457,017</td>\n",
       "      <td>NaN</td>\n",
       "      <td>1</td>\n",
       "    </tr>\n",
       "    <tr>\n",
       "      <th>...</th>\n",
       "      <td>...</td>\n",
       "      <td>...</td>\n",
       "      <td>...</td>\n",
       "      <td>...</td>\n",
       "      <td>...</td>\n",
       "      <td>...</td>\n",
       "      <td>...</td>\n",
       "      <td>...</td>\n",
       "      <td>...</td>\n",
       "      <td>...</td>\n",
       "      <td>...</td>\n",
       "      <td>...</td>\n",
       "      <td>...</td>\n",
       "      <td>...</td>\n",
       "      <td>...</td>\n",
       "      <td>...</td>\n",
       "      <td>...</td>\n",
       "      <td>...</td>\n",
       "      <td>...</td>\n",
       "      <td>...</td>\n",
       "      <td>...</td>\n",
       "    </tr>\n",
       "    <tr>\n",
       "      <th>4595</th>\n",
       "      <td>For the Last Time</td>\n",
       "      <td>For the Last Time</td>\n",
       "      <td>$uicideboy$</td>\n",
       "      <td>9/5/2017</td>\n",
       "      <td>QM8DG1703420</td>\n",
       "      <td>4,585</td>\n",
       "      <td>19.4</td>\n",
       "      <td>305,049,963</td>\n",
       "      <td>65,770</td>\n",
       "      <td>5,103,054</td>\n",
       "      <td>...</td>\n",
       "      <td>NaN</td>\n",
       "      <td>2.0</td>\n",
       "      <td>14,217</td>\n",
       "      <td>NaN</td>\n",
       "      <td>20,104,066</td>\n",
       "      <td>13,184</td>\n",
       "      <td>50,633,006</td>\n",
       "      <td>656,337</td>\n",
       "      <td>NaN</td>\n",
       "      <td>1</td>\n",
       "    </tr>\n",
       "    <tr>\n",
       "      <th>4596</th>\n",
       "      <td>Dil Meri Na Sune</td>\n",
       "      <td>Dil Meri Na Sune (From \"Genius\")</td>\n",
       "      <td>Atif Aslam</td>\n",
       "      <td>7/27/2018</td>\n",
       "      <td>INT101800122</td>\n",
       "      <td>4,575</td>\n",
       "      <td>19.4</td>\n",
       "      <td>52,282,360</td>\n",
       "      <td>4,602</td>\n",
       "      <td>1,449,767</td>\n",
       "      <td>...</td>\n",
       "      <td>NaN</td>\n",
       "      <td>1.0</td>\n",
       "      <td>927</td>\n",
       "      <td>NaN</td>\n",
       "      <td>NaN</td>\n",
       "      <td>NaN</td>\n",
       "      <td>NaN</td>\n",
       "      <td>193,590</td>\n",
       "      <td>NaN</td>\n",
       "      <td>0</td>\n",
       "    </tr>\n",
       "    <tr>\n",
       "      <th>4597</th>\n",
       "      <td>Grace (feat. 42 Dugg)</td>\n",
       "      <td>My Turn</td>\n",
       "      <td>Lil Baby</td>\n",
       "      <td>2/28/2020</td>\n",
       "      <td>USUG12000043</td>\n",
       "      <td>4,571</td>\n",
       "      <td>19.4</td>\n",
       "      <td>189,972,685</td>\n",
       "      <td>72,066</td>\n",
       "      <td>6,704,802</td>\n",
       "      <td>...</td>\n",
       "      <td>NaN</td>\n",
       "      <td>1.0</td>\n",
       "      <td>74</td>\n",
       "      <td>6.0</td>\n",
       "      <td>84,426,740</td>\n",
       "      <td>28,999</td>\n",
       "      <td>NaN</td>\n",
       "      <td>1,135,998</td>\n",
       "      <td>NaN</td>\n",
       "      <td>1</td>\n",
       "    </tr>\n",
       "    <tr>\n",
       "      <th>4598</th>\n",
       "      <td>Nashe Si Chadh Gayi</td>\n",
       "      <td>November Top 10 Songs</td>\n",
       "      <td>Arijit Singh</td>\n",
       "      <td>11/8/2016</td>\n",
       "      <td>INY091600067</td>\n",
       "      <td>4,591</td>\n",
       "      <td>19.4</td>\n",
       "      <td>145,467,020</td>\n",
       "      <td>14,037</td>\n",
       "      <td>7,387,064</td>\n",
       "      <td>...</td>\n",
       "      <td>NaN</td>\n",
       "      <td>NaN</td>\n",
       "      <td>NaN</td>\n",
       "      <td>7.0</td>\n",
       "      <td>6,817,840</td>\n",
       "      <td>NaN</td>\n",
       "      <td>NaN</td>\n",
       "      <td>448,292</td>\n",
       "      <td>NaN</td>\n",
       "      <td>0</td>\n",
       "    </tr>\n",
       "    <tr>\n",
       "      <th>4599</th>\n",
       "      <td>Me Acostumbre (feat. Bad Bunny)</td>\n",
       "      <td>Me Acostumbre (feat. Bad Bunny)</td>\n",
       "      <td>Arcï¿½ï¿½</td>\n",
       "      <td>4/11/2017</td>\n",
       "      <td>USB271700107</td>\n",
       "      <td>4,593</td>\n",
       "      <td>19.4</td>\n",
       "      <td>255,740,653</td>\n",
       "      <td>32,138</td>\n",
       "      <td>14,066,526</td>\n",
       "      <td>...</td>\n",
       "      <td>NaN</td>\n",
       "      <td>4.0</td>\n",
       "      <td>127,479</td>\n",
       "      <td>4.0</td>\n",
       "      <td>69,006,739</td>\n",
       "      <td>11,320</td>\n",
       "      <td>NaN</td>\n",
       "      <td>767,006</td>\n",
       "      <td>NaN</td>\n",
       "      <td>1</td>\n",
       "    </tr>\n",
       "  </tbody>\n",
       "</table>\n",
       "<p>4600 rows × 29 columns</p>\n",
       "</div>"
      ],
      "text/plain": [
       "                                Track                        Album Name  \\\n",
       "0                 MILLION DOLLAR BABY      Million Dollar Baby - Single   \n",
       "1                         Not Like Us                       Not Like Us   \n",
       "2          i like the way you kiss me        I like the way you kiss me   \n",
       "3                             Flowers                  Flowers - Single   \n",
       "4                             Houdini                           Houdini   \n",
       "...                               ...                               ...   \n",
       "4595                For the Last Time                 For the Last Time   \n",
       "4596                 Dil Meri Na Sune  Dil Meri Na Sune (From \"Genius\")   \n",
       "4597            Grace (feat. 42 Dugg)                           My Turn   \n",
       "4598              Nashe Si Chadh Gayi             November Top 10 Songs   \n",
       "4599  Me Acostumbre (feat. Bad Bunny)   Me Acostumbre (feat. Bad Bunny)   \n",
       "\n",
       "              Artist Release Date          ISRC All Time Rank  Track Score  \\\n",
       "0      Tommy Richman    4/26/2024  QM24S2402528             1        725.4   \n",
       "1     Kendrick Lamar     5/4/2024  USUG12400910             2        545.9   \n",
       "2            Artemas    3/19/2024  QZJ842400387             3        538.4   \n",
       "3        Miley Cyrus    1/12/2023  USSM12209777             4        444.9   \n",
       "4             Eminem    5/31/2024  USUG12403398             5        423.3   \n",
       "...              ...          ...           ...           ...          ...   \n",
       "4595     $uicideboy$     9/5/2017  QM8DG1703420         4,585         19.4   \n",
       "4596      Atif Aslam    7/27/2018  INT101800122         4,575         19.4   \n",
       "4597        Lil Baby    2/28/2020  USUG12000043         4,571         19.4   \n",
       "4598    Arijit Singh    11/8/2016  INY091600067         4,591         19.4   \n",
       "4599       Arcï¿½ï¿½    4/11/2017  USB271700107         4,593         19.4   \n",
       "\n",
       "     Spotify Streams Spotify Playlist Count Spotify Playlist Reach  ...  \\\n",
       "0        390,470,936                 30,716            196,631,588  ...   \n",
       "1        323,703,884                 28,113            174,597,137  ...   \n",
       "2        601,309,283                 54,331            211,607,669  ...   \n",
       "3      2,031,280,633                269,802            136,569,078  ...   \n",
       "4        107,034,922                  7,223            151,469,874  ...   \n",
       "...              ...                    ...                    ...  ...   \n",
       "4595     305,049,963                 65,770              5,103,054  ...   \n",
       "4596      52,282,360                  4,602              1,449,767  ...   \n",
       "4597     189,972,685                 72,066              6,704,802  ...   \n",
       "4598     145,467,020                 14,037              7,387,064  ...   \n",
       "4599     255,740,653                 32,138             14,066,526  ...   \n",
       "\n",
       "      SiriusXM Spins Deezer Playlist Count Deezer Playlist Reach  \\\n",
       "0                684                  62.0            17,598,718   \n",
       "1                  3                  67.0            10,422,430   \n",
       "2                536                 136.0            36,321,847   \n",
       "3              2,182                 264.0            24,684,248   \n",
       "4                  1                  82.0            17,660,624   \n",
       "...              ...                   ...                   ...   \n",
       "4595             NaN                   2.0                14,217   \n",
       "4596             NaN                   1.0                   927   \n",
       "4597             NaN                   1.0                    74   \n",
       "4598             NaN                   NaN                   NaN   \n",
       "4599             NaN                   4.0               127,479   \n",
       "\n",
       "     Amazon Playlist Count Pandora Streams Pandora Track Stations  \\\n",
       "0                    114.0      18,004,655                 22,931   \n",
       "1                    111.0       7,780,028                 28,444   \n",
       "2                    172.0       5,022,621                  5,639   \n",
       "3                    210.0     190,260,277                203,384   \n",
       "4                    105.0       4,493,884                  7,006   \n",
       "...                    ...             ...                    ...   \n",
       "4595                   NaN      20,104,066                 13,184   \n",
       "4596                   NaN             NaN                    NaN   \n",
       "4597                   6.0      84,426,740                 28,999   \n",
       "4598                   7.0       6,817,840                    NaN   \n",
       "4599                   4.0      69,006,739                 11,320   \n",
       "\n",
       "     Soundcloud Streams  Shazam Counts TIDAL Popularity Explicit Track  \n",
       "0             4,818,457      2,669,262              NaN              0  \n",
       "1             6,623,075      1,118,279              NaN              1  \n",
       "2             7,208,651      5,285,340              NaN              0  \n",
       "3                   NaN     11,822,942              NaN              0  \n",
       "4               207,179        457,017              NaN              1  \n",
       "...                 ...            ...              ...            ...  \n",
       "4595         50,633,006        656,337              NaN              1  \n",
       "4596                NaN        193,590              NaN              0  \n",
       "4597                NaN      1,135,998              NaN              1  \n",
       "4598                NaN        448,292              NaN              0  \n",
       "4599                NaN        767,006              NaN              1  \n",
       "\n",
       "[4600 rows x 29 columns]"
      ]
     },
     "execution_count": 6,
     "metadata": {},
     "output_type": "execute_result"
    }
   ],
   "source": [
    "songs_spotify"
   ]
  },
  {
   "cell_type": "code",
   "execution_count": 7,
   "id": "e441decd-e01d-43b9-960a-406af56c169f",
   "metadata": {},
   "outputs": [
    {
     "data": {
      "text/html": [
       "<div>\n",
       "<style scoped>\n",
       "    .dataframe tbody tr th:only-of-type {\n",
       "        vertical-align: middle;\n",
       "    }\n",
       "\n",
       "    .dataframe tbody tr th {\n",
       "        vertical-align: top;\n",
       "    }\n",
       "\n",
       "    .dataframe thead th {\n",
       "        text-align: right;\n",
       "    }\n",
       "</style>\n",
       "<table border=\"1\" class=\"dataframe\">\n",
       "  <thead>\n",
       "    <tr style=\"text-align: right;\">\n",
       "      <th></th>\n",
       "      <th>count</th>\n",
       "      <th>mean</th>\n",
       "      <th>std</th>\n",
       "      <th>min</th>\n",
       "      <th>25%</th>\n",
       "      <th>50%</th>\n",
       "      <th>75%</th>\n",
       "      <th>max</th>\n",
       "    </tr>\n",
       "  </thead>\n",
       "  <tbody>\n",
       "    <tr>\n",
       "      <th>Track Score</th>\n",
       "      <td>4600.0</td>\n",
       "      <td>41.844043</td>\n",
       "      <td>38.543766</td>\n",
       "      <td>19.4</td>\n",
       "      <td>23.3</td>\n",
       "      <td>29.9</td>\n",
       "      <td>44.425</td>\n",
       "      <td>725.4</td>\n",
       "    </tr>\n",
       "    <tr>\n",
       "      <th>Spotify Popularity</th>\n",
       "      <td>3796.0</td>\n",
       "      <td>63.501581</td>\n",
       "      <td>16.186438</td>\n",
       "      <td>1.0</td>\n",
       "      <td>61.0</td>\n",
       "      <td>67.0</td>\n",
       "      <td>73.000</td>\n",
       "      <td>96.0</td>\n",
       "    </tr>\n",
       "    <tr>\n",
       "      <th>Apple Music Playlist Count</th>\n",
       "      <td>4039.0</td>\n",
       "      <td>54.603120</td>\n",
       "      <td>71.612270</td>\n",
       "      <td>1.0</td>\n",
       "      <td>10.0</td>\n",
       "      <td>28.0</td>\n",
       "      <td>70.000</td>\n",
       "      <td>859.0</td>\n",
       "    </tr>\n",
       "    <tr>\n",
       "      <th>Deezer Playlist Count</th>\n",
       "      <td>3679.0</td>\n",
       "      <td>32.310954</td>\n",
       "      <td>54.274538</td>\n",
       "      <td>1.0</td>\n",
       "      <td>5.0</td>\n",
       "      <td>15.0</td>\n",
       "      <td>37.000</td>\n",
       "      <td>632.0</td>\n",
       "    </tr>\n",
       "    <tr>\n",
       "      <th>Amazon Playlist Count</th>\n",
       "      <td>3545.0</td>\n",
       "      <td>25.348942</td>\n",
       "      <td>25.989826</td>\n",
       "      <td>1.0</td>\n",
       "      <td>8.0</td>\n",
       "      <td>17.0</td>\n",
       "      <td>34.000</td>\n",
       "      <td>210.0</td>\n",
       "    </tr>\n",
       "    <tr>\n",
       "      <th>TIDAL Popularity</th>\n",
       "      <td>0.0</td>\n",
       "      <td>NaN</td>\n",
       "      <td>NaN</td>\n",
       "      <td>NaN</td>\n",
       "      <td>NaN</td>\n",
       "      <td>NaN</td>\n",
       "      <td>NaN</td>\n",
       "      <td>NaN</td>\n",
       "    </tr>\n",
       "    <tr>\n",
       "      <th>Explicit Track</th>\n",
       "      <td>4600.0</td>\n",
       "      <td>0.358913</td>\n",
       "      <td>0.479734</td>\n",
       "      <td>0.0</td>\n",
       "      <td>0.0</td>\n",
       "      <td>0.0</td>\n",
       "      <td>1.000</td>\n",
       "      <td>1.0</td>\n",
       "    </tr>\n",
       "  </tbody>\n",
       "</table>\n",
       "</div>"
      ],
      "text/plain": [
       "                             count       mean        std   min   25%   50%  \\\n",
       "Track Score                 4600.0  41.844043  38.543766  19.4  23.3  29.9   \n",
       "Spotify Popularity          3796.0  63.501581  16.186438   1.0  61.0  67.0   \n",
       "Apple Music Playlist Count  4039.0  54.603120  71.612270   1.0  10.0  28.0   \n",
       "Deezer Playlist Count       3679.0  32.310954  54.274538   1.0   5.0  15.0   \n",
       "Amazon Playlist Count       3545.0  25.348942  25.989826   1.0   8.0  17.0   \n",
       "TIDAL Popularity               0.0        NaN        NaN   NaN   NaN   NaN   \n",
       "Explicit Track              4600.0   0.358913   0.479734   0.0   0.0   0.0   \n",
       "\n",
       "                               75%    max  \n",
       "Track Score                 44.425  725.4  \n",
       "Spotify Popularity          73.000   96.0  \n",
       "Apple Music Playlist Count  70.000  859.0  \n",
       "Deezer Playlist Count       37.000  632.0  \n",
       "Amazon Playlist Count       34.000  210.0  \n",
       "TIDAL Popularity               NaN    NaN  \n",
       "Explicit Track               1.000    1.0  "
      ]
     },
     "execution_count": 7,
     "metadata": {},
     "output_type": "execute_result"
    }
   ],
   "source": [
    "songs_spotify.describe().T"
   ]
  },
  {
   "cell_type": "markdown",
   "id": "84bb1876-3ab5-4d66-86f6-7e1ede99fffe",
   "metadata": {},
   "source": [
    "### Problem 2. Perform some cleaning (1 point)\n",
    "Ensure all data has been read correctly; check the data types. Give the columns better names (e.g. `all_time_rank`, `track_score`, etc.). To do so, try to use `apply()` instead of a manual mapping between old and new name. Get rid of any unnecessary ones."
   ]
  },
  {
   "cell_type": "code",
   "execution_count": 9,
   "id": "b803c628-3384-4c94-a796-33ecf7831ea1",
   "metadata": {},
   "outputs": [
    {
     "data": {
      "text/plain": [
       "Track                          object\n",
       "Album Name                     object\n",
       "Artist                         object\n",
       "Release Date                   object\n",
       "ISRC                           object\n",
       "All Time Rank                  object\n",
       "Track Score                   float64\n",
       "Spotify Streams                object\n",
       "Spotify Playlist Count         object\n",
       "Spotify Playlist Reach         object\n",
       "Spotify Popularity            float64\n",
       "YouTube Views                  object\n",
       "YouTube Likes                  object\n",
       "TikTok Posts                   object\n",
       "TikTok Likes                   object\n",
       "TikTok Views                   object\n",
       "YouTube Playlist Reach         object\n",
       "Apple Music Playlist Count    float64\n",
       "AirPlay Spins                  object\n",
       "SiriusXM Spins                 object\n",
       "Deezer Playlist Count         float64\n",
       "Deezer Playlist Reach          object\n",
       "Amazon Playlist Count         float64\n",
       "Pandora Streams                object\n",
       "Pandora Track Stations         object\n",
       "Soundcloud Streams             object\n",
       "Shazam Counts                  object\n",
       "TIDAL Popularity              float64\n",
       "Explicit Track                  int64\n",
       "dtype: object"
      ]
     },
     "execution_count": 9,
     "metadata": {},
     "output_type": "execute_result"
    }
   ],
   "source": [
    "songs_spotify.dtypes"
   ]
  },
  {
   "cell_type": "code",
   "execution_count": 10,
   "id": "7ac65750-9e68-47a8-ab07-96fc1fb834c1",
   "metadata": {},
   "outputs": [
    {
     "name": "stdout",
     "output_type": "stream",
     "text": [
      "<class 'pandas.core.frame.DataFrame'>\n",
      "RangeIndex: 4600 entries, 0 to 4599\n",
      "Data columns (total 29 columns):\n",
      " #   Column                      Non-Null Count  Dtype  \n",
      "---  ------                      --------------  -----  \n",
      " 0   Track                       4600 non-null   object \n",
      " 1   Album Name                  4600 non-null   object \n",
      " 2   Artist                      4595 non-null   object \n",
      " 3   Release Date                4600 non-null   object \n",
      " 4   ISRC                        4600 non-null   object \n",
      " 5   All Time Rank               4600 non-null   object \n",
      " 6   Track Score                 4600 non-null   float64\n",
      " 7   Spotify Streams             4487 non-null   object \n",
      " 8   Spotify Playlist Count      4530 non-null   object \n",
      " 9   Spotify Playlist Reach      4528 non-null   object \n",
      " 10  Spotify Popularity          3796 non-null   float64\n",
      " 11  YouTube Views               4292 non-null   object \n",
      " 12  YouTube Likes               4285 non-null   object \n",
      " 13  TikTok Posts                3427 non-null   object \n",
      " 14  TikTok Likes                3620 non-null   object \n",
      " 15  TikTok Views                3619 non-null   object \n",
      " 16  YouTube Playlist Reach      3591 non-null   object \n",
      " 17  Apple Music Playlist Count  4039 non-null   float64\n",
      " 18  AirPlay Spins               4102 non-null   object \n",
      " 19  SiriusXM Spins              2477 non-null   object \n",
      " 20  Deezer Playlist Count       3679 non-null   float64\n",
      " 21  Deezer Playlist Reach       3672 non-null   object \n",
      " 22  Amazon Playlist Count       3545 non-null   float64\n",
      " 23  Pandora Streams             3494 non-null   object \n",
      " 24  Pandora Track Stations      3332 non-null   object \n",
      " 25  Soundcloud Streams          1267 non-null   object \n",
      " 26  Shazam Counts               4023 non-null   object \n",
      " 27  TIDAL Popularity            0 non-null      float64\n",
      " 28  Explicit Track              4600 non-null   int64  \n",
      "dtypes: float64(6), int64(1), object(22)\n",
      "memory usage: 1.0+ MB\n"
     ]
    }
   ],
   "source": [
    "songs_spotify.info()"
   ]
  },
  {
   "cell_type": "code",
   "execution_count": 11,
   "id": "62f97ac7-21ff-431e-b078-7f201164704d",
   "metadata": {},
   "outputs": [
    {
     "data": {
      "text/plain": [
       "Index(['Track', 'Album Name', 'Artist', 'Release Date', 'ISRC',\n",
       "       'All Time Rank', 'Track Score', 'Spotify Streams',\n",
       "       'Spotify Playlist Count', 'Spotify Playlist Reach',\n",
       "       'Spotify Popularity', 'YouTube Views', 'YouTube Likes', 'TikTok Posts',\n",
       "       'TikTok Likes', 'TikTok Views', 'YouTube Playlist Reach',\n",
       "       'Apple Music Playlist Count', 'AirPlay Spins', 'SiriusXM Spins',\n",
       "       'Deezer Playlist Count', 'Deezer Playlist Reach',\n",
       "       'Amazon Playlist Count', 'Pandora Streams', 'Pandora Track Stations',\n",
       "       'Soundcloud Streams', 'Shazam Counts', 'TIDAL Popularity',\n",
       "       'Explicit Track'],\n",
       "      dtype='object')"
      ]
     },
     "execution_count": 11,
     "metadata": {},
     "output_type": "execute_result"
    }
   ],
   "source": [
    "songs_spotify.columns"
   ]
  },
  {
   "cell_type": "code",
   "execution_count": 12,
   "id": "876326a8-0e7a-4dbe-8fdf-feadad7f61a6",
   "metadata": {},
   "outputs": [],
   "source": [
    "def clean_column(name):\n",
    "    # Convert to lower case\n",
    "    name = name.lower()\n",
    "    # remove special characters\n",
    "    name = re.sub(r'[^a-z0-9\\s]', '', name)\n",
    "    # replace spaces with underscores\n",
    "    name = re.sub(r'\\s+', '_', name)\n",
    "    return name\n",
    "\n",
    "songs_spotify.columns = songs_spotify.columns.to_series().apply(clean_column)"
   ]
  },
  {
   "cell_type": "code",
   "execution_count": 13,
   "id": "c0e01c42-45f3-40f5-b83b-74e12527fa67",
   "metadata": {},
   "outputs": [
    {
     "data": {
      "text/plain": [
       "Index(['track', 'album_name', 'artist', 'release_date', 'isrc',\n",
       "       'all_time_rank', 'track_score', 'spotify_streams',\n",
       "       'spotify_playlist_count', 'spotify_playlist_reach',\n",
       "       'spotify_popularity', 'youtube_views', 'youtube_likes', 'tiktok_posts',\n",
       "       'tiktok_likes', 'tiktok_views', 'youtube_playlist_reach',\n",
       "       'apple_music_playlist_count', 'airplay_spins', 'siriusxm_spins',\n",
       "       'deezer_playlist_count', 'deezer_playlist_reach',\n",
       "       'amazon_playlist_count', 'pandora_streams', 'pandora_track_stations',\n",
       "       'soundcloud_streams', 'shazam_counts', 'tidal_popularity',\n",
       "       'explicit_track'],\n",
       "      dtype='object')"
      ]
     },
     "execution_count": 13,
     "metadata": {},
     "output_type": "execute_result"
    }
   ],
   "source": [
    "songs_spotify.columns"
   ]
  },
  {
   "cell_type": "markdown",
   "id": "0ae40d8d-4831-484d-a464-dda392703366",
   "metadata": {},
   "source": [
    "### Problem 3. Most productive artists (1 point)\n",
    "Who are the five artists with the most songs in the dataset?\n",
    "\n",
    "Who are the five \"clean-mouthed\" artists (i.e., with no explicit songs)? **Note:** We're not going into details but we can start a discussion about whether a song needs swearing to be popular."
   ]
  },
  {
   "cell_type": "code",
   "execution_count": 15,
   "id": "989be711-9aac-4396-b75b-99f5abaa319c",
   "metadata": {},
   "outputs": [
    {
     "data": {
      "text/plain": [
       "artist\n",
       "Drake           63\n",
       "Taylor Swift    63\n",
       "Bad Bunny       60\n",
       "KAROL G         32\n",
       "The Weeknd      31\n",
       "Name: count, dtype: int64"
      ]
     },
     "execution_count": 15,
     "metadata": {},
     "output_type": "execute_result"
    }
   ],
   "source": [
    "songs_spotify[\"artist\"].value_counts().head(5)"
   ]
  },
  {
   "cell_type": "code",
   "execution_count": 16,
   "id": "ad9fb8d1-775f-4af2-acc6-f9baa21bed00",
   "metadata": {},
   "outputs": [
    {
     "data": {
      "text/plain": [
       "explicit_track\n",
       "0    2949\n",
       "1    1651\n",
       "Name: count, dtype: int64"
      ]
     },
     "execution_count": 16,
     "metadata": {},
     "output_type": "execute_result"
    }
   ],
   "source": [
    "songs_spotify[\"explicit_track\"].value_counts()"
   ]
  },
  {
   "cell_type": "code",
   "execution_count": 47,
   "id": "f1c4a6ff-66e6-4a72-b3a0-0143d11dea94",
   "metadata": {},
   "outputs": [],
   "source": [
    "songs_clean = songs_spotify[songs_spotify[\"explicit_track\"]==False]"
   ]
  },
  {
   "cell_type": "code",
   "execution_count": 51,
   "id": "4b0f3864-eeef-491c-a3ad-84cb52fd6a45",
   "metadata": {},
   "outputs": [],
   "source": [
    "clean_mounthed_artist=songs_clean[\"artist\"].value_counts().head(5)"
   ]
  },
  {
   "cell_type": "code",
   "execution_count": 53,
   "id": "4b0f5c8e-cc21-4286-a061-44f7811f1b07",
   "metadata": {},
   "outputs": [
    {
     "data": {
      "text/plain": [
       "artist\n",
       "Taylor Swift     50\n",
       "Billie Eilish    25\n",
       "Bad Bunny        18\n",
       "KAROL G          18\n",
       "Morgan Wallen    17\n",
       "Name: count, dtype: int64"
      ]
     },
     "execution_count": 53,
     "metadata": {},
     "output_type": "execute_result"
    }
   ],
   "source": [
    "clean_mounthed_artist"
   ]
  },
  {
   "cell_type": "markdown",
   "id": "25ee2949-c7ce-4c30-8836-1fa443d245e9",
   "metadata": {},
   "source": [
    "### Problem 4. Most streamed artists (1 point)\n",
    "And who are the top five most streamed (as measured by Spotify streams) artists?"
   ]
  },
  {
   "cell_type": "code",
   "execution_count": 20,
   "id": "aeb0384d-daa4-482e-b5ff-dbe8abca0688",
   "metadata": {},
   "outputs": [
    {
     "data": {
      "text/plain": [
       "spotify_streams\n",
       "1,655,575,417    4\n",
       "1,642,258,500    3\n",
       "717,849,037      2\n",
       "227,893,586      2\n",
       "2,252,713,547    2\n",
       "                ..\n",
       "133,536,914      1\n",
       "9,736,339        1\n",
       "2,265,551,950    1\n",
       "328,017,675      1\n",
       "255,740,653      1\n",
       "Name: count, Length: 4425, dtype: int64"
      ]
     },
     "execution_count": 20,
     "metadata": {},
     "output_type": "execute_result"
    }
   ],
   "source": [
    "songs_spotify[\"spotify_streams\"].value_counts()"
   ]
  },
  {
   "cell_type": "code",
   "execution_count": 21,
   "id": "09e42ba2-1bc0-4ed5-a3fd-71f610bf6540",
   "metadata": {},
   "outputs": [
    {
     "data": {
      "text/plain": [
       "dtype('O')"
      ]
     },
     "execution_count": 21,
     "metadata": {},
     "output_type": "execute_result"
    }
   ],
   "source": [
    "songs_spotify[\"spotify_streams\"].dtype\n",
    "# The value type of the column is object"
   ]
  },
  {
   "cell_type": "code",
   "execution_count": 22,
   "id": "8402fa66-0842-4acf-aa44-51a51a9d49a0",
   "metadata": {},
   "outputs": [],
   "source": [
    "# Covert the value of the column to float\n",
    "songs_spotify[\"spotify_streams\"]=songs_spotify[\"spotify_streams\"].replace(',', '', regex=True).astype(float)"
   ]
  },
  {
   "cell_type": "code",
   "execution_count": 23,
   "id": "60201fd8-c5f3-47b8-83ff-67cf7c07e552",
   "metadata": {},
   "outputs": [
    {
     "data": {
      "text/plain": [
       "dtype('float64')"
      ]
     },
     "execution_count": 23,
     "metadata": {},
     "output_type": "execute_result"
    }
   ],
   "source": [
    "songs_spotify[\"spotify_streams\"].dtype"
   ]
  },
  {
   "cell_type": "code",
   "execution_count": 24,
   "id": "b12e52be-ce23-499b-98b8-9aa9eafc46fc",
   "metadata": {},
   "outputs": [],
   "source": [
    "# Group the Spotify streams by artist and sum their values\n",
    "streamed_top = songs_spotify.groupby(\"artist\")[\"spotify_streams\"].sum()"
   ]
  },
  {
   "cell_type": "code",
   "execution_count": 55,
   "id": "bb620349-8a44-45ee-8308-c02373c075cf",
   "metadata": {},
   "outputs": [],
   "source": [
    "# Sort in descending order and get the top 5\n",
    "top_streamed_artist = streamed_top.sort_values(ascending=False).head(5)"
   ]
  },
  {
   "cell_type": "code",
   "execution_count": 57,
   "id": "56608a6a-0da2-40d7-b119-df9a08ffa343",
   "metadata": {},
   "outputs": [
    {
     "data": {
      "text/plain": [
       "artist\n",
       "Bad Bunny       3.705483e+10\n",
       "The Weeknd      3.694854e+10\n",
       "Drake           3.496216e+10\n",
       "Taylor Swift    3.447077e+10\n",
       "Post Malone     2.613747e+10\n",
       "Name: spotify_streams, dtype: float64"
      ]
     },
     "execution_count": 57,
     "metadata": {},
     "output_type": "execute_result"
    }
   ],
   "source": [
    "top_streamed_artist"
   ]
  },
  {
   "cell_type": "code",
   "execution_count": 71,
   "id": "05fdfd4b-d57d-4234-a22f-b0e91633ef1d",
   "metadata": {},
   "outputs": [
    {
     "data": {
      "image/png": "[encoded data removed]",
      "text/plain": [
       "<Figure size 640x480 with 1 Axes>"
      ]
     },
     "metadata": {},
     "output_type": "display_data"
    }
   ],
   "source": [
    "plt.bar(top_streamed_artist.index, top_streamed_artist, color='skyblue')\n",
    "plt.xlabel(\"Top Streamed Artist\")\n",
    "plt.ylabel(\"Total Spotify Streams\")\n",
    "plt.title(\"Top 5 Most Streamed Artists on Spotify\")\n",
    "plt.tight_layout()\n",
    "plt.grid(axis='y')\n",
    "plt.show()"
   ]
  },
  {
   "cell_type": "markdown",
   "id": "30fa25c3-abd4-4f04-859a-e00e781adaa8",
   "metadata": {},
   "source": [
    "### Problem 5. Songs by year and month (1 point)\n",
    "How many songs have been released each year? Present an appropriate plot. Can you explain the behavior of the plot for 2024?\n",
    "\n",
    "How about months? Is / Are there (a) popular month(s) to release music?"
   ]
  },
  {
   "cell_type": "code",
   "execution_count": 85,
   "id": "d1fed62e-a087-412d-afb9-bcaa69d22e01",
   "metadata": {},
   "outputs": [
    {
     "data": {
      "text/plain": [
       "0       4/26/2024\n",
       "1        5/4/2024\n",
       "2       3/19/2024\n",
       "3       1/12/2023\n",
       "4       5/31/2024\n",
       "          ...    \n",
       "4595     9/5/2017\n",
       "4596    7/27/2018\n",
       "4597    2/28/2020\n",
       "4598    11/8/2016\n",
       "4599    4/11/2017\n",
       "Name: release_date, Length: 4600, dtype: object"
      ]
     },
     "execution_count": 85,
     "metadata": {},
     "output_type": "execute_result"
    }
   ],
   "source": [
    "songs_spotify[\"release_date\"]"
   ]
  },
  {
   "cell_type": "code",
   "execution_count": 83,
   "id": "6bfca544-a5b2-40b1-9678-c4dbeff75423",
   "metadata": {},
   "outputs": [
    {
     "data": {
      "text/plain": [
       "0"
      ]
     },
     "execution_count": 83,
     "metadata": {},
     "output_type": "execute_result"
    }
   ],
   "source": [
    "songs_spotify[\"release_date\"].isna().sum()"
   ]
  },
  {
   "cell_type": "code",
   "execution_count": 77,
   "id": "6b43275b-66ad-47e5-9e90-a66ce00f2948",
   "metadata": {},
   "outputs": [
    {
     "data": {
      "text/plain": [
       "dtype('O')"
      ]
     },
     "execution_count": 77,
     "metadata": {},
     "output_type": "execute_result"
    }
   ],
   "source": [
    "songs_spotify[\"release_date\"].dtype"
   ]
  },
  {
   "cell_type": "code",
   "execution_count": null,
   "id": "18adb416-5d48-4546-af4b-b1e18b986413",
   "metadata": {},
   "outputs": [],
   "source": [
    "songs_spotify[\"release_date\"]"
   ]
  },
  {
   "cell_type": "code",
   "execution_count": 87,
   "id": "72b25960-5065-4ffe-b7e5-7db90a70d74b",
   "metadata": {},
   "outputs": [],
   "source": [
    "# Covert it to datetime format\n",
    "songs_spotify[\"release_date\"] = pd.to_datetime(songs_spotify[\"release_date\"], errors=\"coerce\")"
   ]
  },
  {
   "cell_type": "code",
   "execution_count": 89,
   "id": "31f52091-7e5b-4c19-9809-1b2af30dbad8",
   "metadata": {},
   "outputs": [],
   "source": [
    "songs_spotify[\"release_year\"] = songs_spotify[\"release_date\"].dt.year"
   ]
  },
  {
   "cell_type": "code",
   "execution_count": 91,
   "id": "789a6e63-1e12-4a49-941c-84b9a4286e2e",
   "metadata": {},
   "outputs": [],
   "source": [
    "songs_per_year = songs_spotify[\"release_year\"].value_counts().sort_index()"
   ]
  },
  {
   "cell_type": "code",
   "execution_count": 93,
   "id": "0f83359c-96df-48e1-8add-a340d362f9f0",
   "metadata": {
    "scrolled": true
   },
   "outputs": [
    {
     "data": {
      "text/plain": [
       "release_year\n",
       "1987       1\n",
       "1991       1\n",
       "1994       1\n",
       "1998       1\n",
       "1999       1\n",
       "2000       2\n",
       "2001       1\n",
       "2002       5\n",
       "2003       3\n",
       "2004       5\n",
       "2005       5\n",
       "2006       3\n",
       "2007       5\n",
       "2008      11\n",
       "2009      15\n",
       "2010      27\n",
       "2011      51\n",
       "2012      47\n",
       "2013      55\n",
       "2014      70\n",
       "2015      96\n",
       "2016     123\n",
       "2017     213\n",
       "2018     249\n",
       "2019     296\n",
       "2020     360\n",
       "2021     408\n",
       "2022     694\n",
       "2023    1158\n",
       "2024     693\n",
       "Name: count, dtype: int64"
      ]
     },
     "execution_count": 93,
     "metadata": {},
     "output_type": "execute_result"
    }
   ],
   "source": [
    "songs_per_year"
   ]
  },
  {
   "cell_type": "code",
   "execution_count": 125,
   "id": "b6292c99-7053-4a05-b583-653307b69b31",
   "metadata": {},
   "outputs": [
    {
     "data": {
      "image/png": "[encoded data removed]",
      "text/plain": [
       "<Figure size 640x480 with 1 Axes>"
      ]
     },
     "metadata": {},
     "output_type": "display_data"
    }
   ],
   "source": [
    "plt.bar(songs_per_year.index, songs_per_year)\n",
    "plt.xlabel(\"Year\")\n",
    "plt.ylabel(\"Number of Songs\")\n",
    "plt.title(\"Released songs per year\")\n",
    "plt.tight_layout()\n",
    "plt.show()"
   ]
  },
  {
   "cell_type": "code",
   "execution_count": 103,
   "id": "a666fc1b-d34f-4f57-ba90-4e8146b490a6",
   "metadata": {},
   "outputs": [],
   "source": [
    "songs_2024 = songs_spotify[songs_spotify[\"release_date\"].dt.year == 2024]"
   ]
  },
  {
   "cell_type": "code",
   "execution_count": 105,
   "id": "e1b440b9-bcb4-44ed-b73a-77c002ab780f",
   "metadata": {},
   "outputs": [],
   "source": [
    "last_song_2024 = songs_2024.loc[songs_2024[\"release_date\"].idxmax()]"
   ]
  },
  {
   "cell_type": "code",
   "execution_count": 107,
   "id": "c1c8bd5b-7080-40d6-88ef-ea4e3e2c553c",
   "metadata": {},
   "outputs": [
    {
     "data": {
      "text/plain": [
       "track                                    The Door\n",
       "album_name                               The Door\n",
       "artist                                Teddy Swims\n",
       "release_date                  2024-06-14 00:00:00\n",
       "isrc                                 USWB12402486\n",
       "all_time_rank                                  12\n",
       "track_score                                 320.2\n",
       "spotify_streams                       111155129.0\n",
       "spotify_playlist_count                          2\n",
       "spotify_playlist_reach                    263,767\n",
       "spotify_popularity                            NaN\n",
       "youtube_views                                 NaN\n",
       "youtube_likes                                 NaN\n",
       "tiktok_posts                                  NaN\n",
       "tiktok_likes                                  NaN\n",
       "tiktok_views                                  NaN\n",
       "youtube_playlist_reach                        NaN\n",
       "apple_music_playlist_count                    NaN\n",
       "airplay_spins                                 NaN\n",
       "siriusxm_spins                                NaN\n",
       "deezer_playlist_count                         NaN\n",
       "deezer_playlist_reach                         NaN\n",
       "amazon_playlist_count                         2.0\n",
       "pandora_streams                               NaN\n",
       "pandora_track_stations                        NaN\n",
       "soundcloud_streams                            NaN\n",
       "shazam_counts                                 NaN\n",
       "tidal_popularity                              NaN\n",
       "explicit_track                                  1\n",
       "release_year                                 2024\n",
       "Name: 11, dtype: object"
      ]
     },
     "execution_count": 107,
     "metadata": {},
     "output_type": "execute_result"
    }
   ],
   "source": [
    "last_song_2024"
   ]
  },
  {
   "cell_type": "markdown",
   "id": "12205e44-5da4-4a7c-9537-4d93a32cc7db",
   "metadata": {},
   "source": [
    "The behaiviour of the plot for 2024 is due to the fact that the year in our dataset is not compalete. The relesed data fo last song for the year is 2024-06-14, whihc means that only half of the year is represneted in our dataset. In the trend continues, taking into account the song released in 2023, by hte end of the year, the number of the released songs maybe will double and will be more than 1000. Similar to the number of songs released in 2023.      "
   ]
  },
  {
   "cell_type": "code",
   "execution_count": 109,
   "id": "d7c78cb0-30d9-4156-8fbb-0940859c2c5e",
   "metadata": {},
   "outputs": [],
   "source": [
    "songs_spotify[\"release_month\"] = songs_spotify[\"release_date\"].dt.month_name()"
   ]
  },
  {
   "cell_type": "code",
   "execution_count": 111,
   "id": "d2dda7dd-20d8-4d39-a403-adaf4e82e9df",
   "metadata": {},
   "outputs": [],
   "source": [
    "songs_per_month = songs_spotify[\"release_month\"].value_counts().sort_index()"
   ]
  },
  {
   "cell_type": "code",
   "execution_count": 113,
   "id": "4b4791f6-fefe-4e81-b496-6923cd508542",
   "metadata": {},
   "outputs": [
    {
     "data": {
      "text/plain": [
       "release_month\n",
       "April        420\n",
       "August       315\n",
       "December     272\n",
       "February     371\n",
       "January      503\n",
       "July         321\n",
       "June         395\n",
       "March        430\n",
       "May          511\n",
       "November     350\n",
       "October      384\n",
       "September    328\n",
       "Name: count, dtype: int64"
      ]
     },
     "execution_count": 113,
     "metadata": {},
     "output_type": "execute_result"
    }
   ],
   "source": [
    "songs_per_month"
   ]
  },
  {
   "cell_type": "code",
   "execution_count": 123,
   "id": "e3f45e55-49bb-475f-8bd4-6d8681d9cf3c",
   "metadata": {},
   "outputs": [
    {
     "data": {
      "image/png": "[encoded data removed]",
      "text/plain": [
       "<Figure size 640x480 with 1 Axes>"
      ]
     },
     "metadata": {},
     "output_type": "display_data"
    }
   ],
   "source": [
    "plt.bar(songs_per_month.index, songs_per_month)\n",
    "plt.xlabel(\"Month\")\n",
    "plt.ylabel(\"Number of songs\")\n",
    "plt.title(\"Songs released per month\")\n",
    "plt.xticks(rotation=90)\n",
    "plt.tight_layout()\n",
    "plt.show()"
   ]
  },
  {
   "cell_type": "markdown",
   "id": "44a14d03-c1dc-4ee8-9eca-c8e79ff6776e",
   "metadata": {},
   "source": [
    "The peaks in our barchart are in May(511) and January(503). We can interpret this as the fact the by the begging of each year there is a push to release a new songs. Also the peak at may can be atributed to the spring and summere festivals.April and March are the next higher months, which probally is related to the festival season (US,Glostonbary, etc)     "
   ]
  },
  {
   "cell_type": "markdown",
   "id": "d83c5535-72dc-4670-81a3-8ca244233a46",
   "metadata": {},
   "source": [
    "### Problem 6. Playlists (2 points)\n",
    "Is there any connection (correlation) between users adding a song to playlists in one service, or another? Only Spotify, Apple, Deezer, and Amazon offer the ability to add a song to a playlist. Find a way to plot all these relationships at the same time, and analyze them. Experiment with different types of correlations."
   ]
  },
  {
   "cell_type": "code",
   "execution_count": null,
   "id": "d3db5ed8-10e4-4f3d-9e20-ddc03371ba58",
   "metadata": {},
   "outputs": [],
   "source": []
  },
  {
   "cell_type": "code",
   "execution_count": null,
   "id": "6cefd6f1-97e6-4d6e-8a56-cd6c833b0cfd",
   "metadata": {},
   "outputs": [],
   "source": []
  },
  {
   "cell_type": "markdown",
   "id": "e78b8307-de74-4cb4-ba61-da4e7c9fc6c6",
   "metadata": {},
   "source": [
    "### Problem 7. YouTube views and likes (1 point)\n",
    "What is the relationship between YouTube views and likes? Present an appropriate plot. \n",
    "\n",
    "What is the mean YouTube views-to-likes ratio? What is its distribution? Find a way to plot it and describe it."
   ]
  },
  {
   "cell_type": "code",
   "execution_count": null,
   "id": "bf3c3dd5-7466-4dec-9fc3-14a5690da4b4",
   "metadata": {},
   "outputs": [],
   "source": []
  },
  {
   "cell_type": "markdown",
   "id": "7fc028b8-362f-4d5e-9958-72ed876f83fc",
   "metadata": {},
   "source": [
    "### Problem 8. TikTok stuff (2 points)\n",
    "The most popular songs on TikTok released every year show... interesting behavior. Which years peaked the most TikTok views? Show an appropriate chart. Can you explain this behavior? For a bit of context, TikTok was created in 2016.\n",
    "\n",
    "Now, how much popular is the most popular song for each release year, than the mean popularity? Analyze the results.\n",
    "\n",
    "In both parts, it would be helpful to see the actual songs."
   ]
  },
  {
   "cell_type": "markdown",
   "id": "28288cbc-1693-4682-bf09-b6b7e5756b1a",
   "metadata": {},
   "source": [
    "#### Part I"
   ]
  },
  {
   "cell_type": "code",
   "execution_count": null,
   "id": "b8453523-d5fe-4e7d-8509-35cece52adbb",
   "metadata": {},
   "outputs": [],
   "source": []
  },
  {
   "cell_type": "markdown",
   "id": "2a6c9ac6-2df6-4ae8-b6ec-79d7624d7c7a",
   "metadata": {},
   "source": [
    "#### Part II"
   ]
  },
  {
   "cell_type": "code",
   "execution_count": null,
   "id": "73b67f92-a33d-48bb-bc94-42b58cb93b84",
   "metadata": {},
   "outputs": [],
   "source": []
  },
  {
   "cell_type": "markdown",
   "id": "d6d06ba6-54fe-4514-b9f3-50b5ac541b50",
   "metadata": {},
   "source": [
    "### * Problem 9. Explore (and clean) at will\n",
    "There is a lot to look for here. For example, you can easily link a song to its genres, and lyrics. You may also try to link artists and albums to more info about them. Or you can compare and contrast a song's performance across different platforms, in a similar manner to what you already did above; maybe even assign a better song ranking system (across platforms with different popularity metrics, and different requirements) than the one provided in the dataset."
   ]
  },
  {
   "cell_type": "markdown",
   "id": "f7f0dc28-850b-4159-8c0d-3fe5a8c33a3c",
   "metadata": {},
   "source": [
    "#### Clean"
   ]
  },
  {
   "cell_type": "code",
   "execution_count": 31,
   "id": "844a9811-c034-4bcf-96c4-8b69f743a330",
   "metadata": {},
   "outputs": [],
   "source": [
    "# pd.set_option('display.max_rows', 1000)"
   ]
  },
  {
   "cell_type": "code",
   "execution_count": 129,
   "id": "64dcc72c-edd8-46fe-b4d0-6138d52d1aa2",
   "metadata": {},
   "outputs": [
    {
     "data": {
      "text/html": [
       "<div>\n",
       "<style scoped>\n",
       "    .dataframe tbody tr th:only-of-type {\n",
       "        vertical-align: middle;\n",
       "    }\n",
       "\n",
       "    .dataframe tbody tr th {\n",
       "        vertical-align: top;\n",
       "    }\n",
       "\n",
       "    .dataframe thead th {\n",
       "        text-align: right;\n",
       "    }\n",
       "</style>\n",
       "<table border=\"1\" class=\"dataframe\">\n",
       "  <thead>\n",
       "    <tr style=\"text-align: right;\">\n",
       "      <th></th>\n",
       "      <th>track</th>\n",
       "      <th>album_name</th>\n",
       "      <th>artist</th>\n",
       "      <th>release_date</th>\n",
       "      <th>isrc</th>\n",
       "      <th>all_time_rank</th>\n",
       "      <th>track_score</th>\n",
       "      <th>spotify_streams</th>\n",
       "      <th>spotify_playlist_count</th>\n",
       "      <th>spotify_playlist_reach</th>\n",
       "      <th>...</th>\n",
       "      <th>deezer_playlist_reach</th>\n",
       "      <th>amazon_playlist_count</th>\n",
       "      <th>pandora_streams</th>\n",
       "      <th>pandora_track_stations</th>\n",
       "      <th>soundcloud_streams</th>\n",
       "      <th>shazam_counts</th>\n",
       "      <th>tidal_popularity</th>\n",
       "      <th>explicit_track</th>\n",
       "      <th>release_year</th>\n",
       "      <th>release_month</th>\n",
       "    </tr>\n",
       "  </thead>\n",
       "  <tbody>\n",
       "    <tr>\n",
       "      <th>23</th>\n",
       "      <td>TEXAS HOLD 'EM</td>\n",
       "      <td>TEXAS HOLD 'EM</td>\n",
       "      <td>Beyoncï¿</td>\n",
       "      <td>2024-02-10</td>\n",
       "      <td>USSM12401302</td>\n",
       "      <td>24</td>\n",
       "      <td>278.9</td>\n",
       "      <td>4.267010e+08</td>\n",
       "      <td>34,044</td>\n",
       "      <td>152,928,632</td>\n",
       "      <td>...</td>\n",
       "      <td>40,725,482</td>\n",
       "      <td>177.0</td>\n",
       "      <td>13,860,535</td>\n",
       "      <td>36,282</td>\n",
       "      <td>NaN</td>\n",
       "      <td>2,100,708</td>\n",
       "      <td>NaN</td>\n",
       "      <td>1</td>\n",
       "      <td>2024</td>\n",
       "      <td>February</td>\n",
       "    </tr>\n",
       "    <tr>\n",
       "      <th>28</th>\n",
       "      <td>we can't be friends (wait for your love)</td>\n",
       "      <td>eternal sunshine</td>\n",
       "      <td>Ariana Grande</td>\n",
       "      <td>2024-03-08</td>\n",
       "      <td>USUM72317276</td>\n",
       "      <td>29</td>\n",
       "      <td>262.8</td>\n",
       "      <td>5.910684e+08</td>\n",
       "      <td>26,203</td>\n",
       "      <td>197,494,995</td>\n",
       "      <td>...</td>\n",
       "      <td>22,062,193</td>\n",
       "      <td>126.0</td>\n",
       "      <td>10,106,573</td>\n",
       "      <td>7,689</td>\n",
       "      <td>1,612,479</td>\n",
       "      <td>1,579,980</td>\n",
       "      <td>NaN</td>\n",
       "      <td>0</td>\n",
       "      <td>2024</td>\n",
       "      <td>March</td>\n",
       "    </tr>\n",
       "    <tr>\n",
       "      <th>29</th>\n",
       "      <td>Numb / Encore</td>\n",
       "      <td>Papercuts</td>\n",
       "      <td>JAY-Z</td>\n",
       "      <td>2024-04-12</td>\n",
       "      <td>USWB12400678</td>\n",
       "      <td>30</td>\n",
       "      <td>256.0</td>\n",
       "      <td>1.003216e+09</td>\n",
       "      <td>128</td>\n",
       "      <td>485,454</td>\n",
       "      <td>...</td>\n",
       "      <td>NaN</td>\n",
       "      <td>NaN</td>\n",
       "      <td>179,867,721</td>\n",
       "      <td>87,209</td>\n",
       "      <td>NaN</td>\n",
       "      <td>4,474,248</td>\n",
       "      <td>NaN</td>\n",
       "      <td>1</td>\n",
       "      <td>2024</td>\n",
       "      <td>April</td>\n",
       "    </tr>\n",
       "    <tr>\n",
       "      <th>35</th>\n",
       "      <td>What's Love Got to Do with It - 2023 Remaster</td>\n",
       "      <td>What's Love Got to Do with It (30th Anniversar...</td>\n",
       "      <td>Tina Turner</td>\n",
       "      <td>2024-04-26</td>\n",
       "      <td>GBAYE2300351</td>\n",
       "      <td>36</td>\n",
       "      <td>230.0</td>\n",
       "      <td>4.794179e+08</td>\n",
       "      <td>7</td>\n",
       "      <td>1,519</td>\n",
       "      <td>...</td>\n",
       "      <td>NaN</td>\n",
       "      <td>1.0</td>\n",
       "      <td>121,250,721</td>\n",
       "      <td>83,632</td>\n",
       "      <td>NaN</td>\n",
       "      <td>3,692,067</td>\n",
       "      <td>NaN</td>\n",
       "      <td>0</td>\n",
       "      <td>2024</td>\n",
       "      <td>April</td>\n",
       "    </tr>\n",
       "    <tr>\n",
       "      <th>41</th>\n",
       "      <td>Cupid ï¿½ï¿½ï¿½ Twin Ver. (FIFTY FIFTY) ï¿½ï¿½...</td>\n",
       "      <td>Cupid ï¿½ï¿½ï¿½ Twin Ver. (FIFTY FIFTY) ï¿½ï¿½...</td>\n",
       "      <td>sped up 8282</td>\n",
       "      <td>2023-04-08</td>\n",
       "      <td>KRA252300672</td>\n",
       "      <td>42</td>\n",
       "      <td>211.2</td>\n",
       "      <td>1.709706e+08</td>\n",
       "      <td>27,827</td>\n",
       "      <td>5,784,546</td>\n",
       "      <td>...</td>\n",
       "      <td>35,737</td>\n",
       "      <td>9.0</td>\n",
       "      <td>270,610</td>\n",
       "      <td>3,170</td>\n",
       "      <td>NaN</td>\n",
       "      <td>NaN</td>\n",
       "      <td>NaN</td>\n",
       "      <td>1</td>\n",
       "      <td>2023</td>\n",
       "      <td>April</td>\n",
       "    </tr>\n",
       "    <tr>\n",
       "      <th>42</th>\n",
       "      <td>I'm Good (Blue)</td>\n",
       "      <td>I'm Good (Blue)</td>\n",
       "      <td>David Guetta</td>\n",
       "      <td>2022-08-26</td>\n",
       "      <td>UKWLG2200055</td>\n",
       "      <td>43</td>\n",
       "      <td>209.6</td>\n",
       "      <td>1.658229e+09</td>\n",
       "      <td>262,248</td>\n",
       "      <td>239,957,538</td>\n",
       "      <td>...</td>\n",
       "      <td>6,479,623</td>\n",
       "      <td>168.0</td>\n",
       "      <td>139,926,990</td>\n",
       "      <td>31,235</td>\n",
       "      <td>8,007,236</td>\n",
       "      <td>10,973,120</td>\n",
       "      <td>NaN</td>\n",
       "      <td>1</td>\n",
       "      <td>2022</td>\n",
       "      <td>August</td>\n",
       "    </tr>\n",
       "    <tr>\n",
       "      <th>56</th>\n",
       "      <td>Creepin' (with The Weeknd &amp; 21 Savage)</td>\n",
       "      <td>HEROES &amp; VILLAINS</td>\n",
       "      <td>Metro Boomin</td>\n",
       "      <td>2022-12-02</td>\n",
       "      <td>USUG12208791</td>\n",
       "      <td>57</td>\n",
       "      <td>192.3</td>\n",
       "      <td>1.337620e+09</td>\n",
       "      <td>228,295</td>\n",
       "      <td>64,806,723</td>\n",
       "      <td>...</td>\n",
       "      <td>2,134,791</td>\n",
       "      <td>66.0</td>\n",
       "      <td>77,382,416</td>\n",
       "      <td>28,694</td>\n",
       "      <td>NaN</td>\n",
       "      <td>6,205,060</td>\n",
       "      <td>NaN</td>\n",
       "      <td>1</td>\n",
       "      <td>2022</td>\n",
       "      <td>December</td>\n",
       "    </tr>\n",
       "    <tr>\n",
       "      <th>64</th>\n",
       "      <td>Back That Azz Up (feat. Lil Wayne &amp; Mannie Fresh)</td>\n",
       "      <td>400 Degreez (Deluxe Edition)</td>\n",
       "      <td>JUVENILE</td>\n",
       "      <td>2024-03-29</td>\n",
       "      <td>USCM52400059</td>\n",
       "      <td>65</td>\n",
       "      <td>181.4</td>\n",
       "      <td>1.999298e+08</td>\n",
       "      <td>4</td>\n",
       "      <td>98</td>\n",
       "      <td>...</td>\n",
       "      <td>NaN</td>\n",
       "      <td>NaN</td>\n",
       "      <td>390,345,308</td>\n",
       "      <td>399,793</td>\n",
       "      <td>NaN</td>\n",
       "      <td>NaN</td>\n",
       "      <td>NaN</td>\n",
       "      <td>1</td>\n",
       "      <td>2024</td>\n",
       "      <td>March</td>\n",
       "    </tr>\n",
       "    <tr>\n",
       "      <th>68</th>\n",
       "      <td>What Was I Made For? [From The Motion Picture ...</td>\n",
       "      <td>What Was I Made For? (From The Motion Picture ...</td>\n",
       "      <td>Billie Eilish</td>\n",
       "      <td>2023-07-13</td>\n",
       "      <td>USUM72307484</td>\n",
       "      <td>69</td>\n",
       "      <td>177.6</td>\n",
       "      <td>8.917202e+08</td>\n",
       "      <td>114,560</td>\n",
       "      <td>97,542,546</td>\n",
       "      <td>...</td>\n",
       "      <td>10,920,686</td>\n",
       "      <td>111.0</td>\n",
       "      <td>39,374,594</td>\n",
       "      <td>19,921</td>\n",
       "      <td>5,418,596</td>\n",
       "      <td>4,476,509</td>\n",
       "      <td>NaN</td>\n",
       "      <td>0</td>\n",
       "      <td>2023</td>\n",
       "      <td>July</td>\n",
       "    </tr>\n",
       "    <tr>\n",
       "      <th>72</th>\n",
       "      <td>Shakira: Bzrp Music Sessions, Vol. 53</td>\n",
       "      <td>Shakira: Bzrp Music Sessions, Vol. 53</td>\n",
       "      <td>Bizarrap</td>\n",
       "      <td>2023-01-11</td>\n",
       "      <td>UYB282301031</td>\n",
       "      <td>73</td>\n",
       "      <td>174.3</td>\n",
       "      <td>9.469415e+08</td>\n",
       "      <td>100,130</td>\n",
       "      <td>74,836,321</td>\n",
       "      <td>...</td>\n",
       "      <td>4,971,379</td>\n",
       "      <td>92.0</td>\n",
       "      <td>48,806,666</td>\n",
       "      <td>10,225</td>\n",
       "      <td>NaN</td>\n",
       "      <td>2,237,762</td>\n",
       "      <td>NaN</td>\n",
       "      <td>0</td>\n",
       "      <td>2023</td>\n",
       "      <td>January</td>\n",
       "    </tr>\n",
       "  </tbody>\n",
       "</table>\n",
       "<p>10 rows × 31 columns</p>\n",
       "</div>"
      ],
      "text/plain": [
       "                                                track  \\\n",
       "23                                     TEXAS HOLD 'EM   \n",
       "28           we can't be friends (wait for your love)   \n",
       "29                                      Numb / Encore   \n",
       "35      What's Love Got to Do with It - 2023 Remaster   \n",
       "41  Cupid ï¿½ï¿½ï¿½ Twin Ver. (FIFTY FIFTY) ï¿½ï¿½...   \n",
       "42                                    I'm Good (Blue)   \n",
       "56             Creepin' (with The Weeknd & 21 Savage)   \n",
       "64  Back That Azz Up (feat. Lil Wayne & Mannie Fresh)   \n",
       "68  What Was I Made For? [From The Motion Picture ...   \n",
       "72              Shakira: Bzrp Music Sessions, Vol. 53   \n",
       "\n",
       "                                           album_name         artist  \\\n",
       "23                                     TEXAS HOLD 'EM       Beyoncï¿   \n",
       "28                                   eternal sunshine  Ariana Grande   \n",
       "29                                          Papercuts          JAY-Z   \n",
       "35  What's Love Got to Do with It (30th Anniversar...    Tina Turner   \n",
       "41  Cupid ï¿½ï¿½ï¿½ Twin Ver. (FIFTY FIFTY) ï¿½ï¿½...   sped up 8282   \n",
       "42                                    I'm Good (Blue)   David Guetta   \n",
       "56                                  HEROES & VILLAINS   Metro Boomin   \n",
       "64                       400 Degreez (Deluxe Edition)       JUVENILE   \n",
       "68  What Was I Made For? (From The Motion Picture ...  Billie Eilish   \n",
       "72              Shakira: Bzrp Music Sessions, Vol. 53       Bizarrap   \n",
       "\n",
       "   release_date          isrc all_time_rank  track_score  spotify_streams  \\\n",
       "23   2024-02-10  USSM12401302            24        278.9     4.267010e+08   \n",
       "28   2024-03-08  USUM72317276            29        262.8     5.910684e+08   \n",
       "29   2024-04-12  USWB12400678            30        256.0     1.003216e+09   \n",
       "35   2024-04-26  GBAYE2300351            36        230.0     4.794179e+08   \n",
       "41   2023-04-08  KRA252300672            42        211.2     1.709706e+08   \n",
       "42   2022-08-26  UKWLG2200055            43        209.6     1.658229e+09   \n",
       "56   2022-12-02  USUG12208791            57        192.3     1.337620e+09   \n",
       "64   2024-03-29  USCM52400059            65        181.4     1.999298e+08   \n",
       "68   2023-07-13  USUM72307484            69        177.6     8.917202e+08   \n",
       "72   2023-01-11  UYB282301031            73        174.3     9.469415e+08   \n",
       "\n",
       "   spotify_playlist_count spotify_playlist_reach  ...  deezer_playlist_reach  \\\n",
       "23                 34,044            152,928,632  ...             40,725,482   \n",
       "28                 26,203            197,494,995  ...             22,062,193   \n",
       "29                    128                485,454  ...                    NaN   \n",
       "35                      7                  1,519  ...                    NaN   \n",
       "41                 27,827              5,784,546  ...                 35,737   \n",
       "42                262,248            239,957,538  ...              6,479,623   \n",
       "56                228,295             64,806,723  ...              2,134,791   \n",
       "64                      4                     98  ...                    NaN   \n",
       "68                114,560             97,542,546  ...             10,920,686   \n",
       "72                100,130             74,836,321  ...              4,971,379   \n",
       "\n",
       "   amazon_playlist_count pandora_streams pandora_track_stations  \\\n",
       "23                 177.0      13,860,535                 36,282   \n",
       "28                 126.0      10,106,573                  7,689   \n",
       "29                   NaN     179,867,721                 87,209   \n",
       "35                   1.0     121,250,721                 83,632   \n",
       "41                   9.0         270,610                  3,170   \n",
       "42                 168.0     139,926,990                 31,235   \n",
       "56                  66.0      77,382,416                 28,694   \n",
       "64                   NaN     390,345,308                399,793   \n",
       "68                 111.0      39,374,594                 19,921   \n",
       "72                  92.0      48,806,666                 10,225   \n",
       "\n",
       "   soundcloud_streams shazam_counts tidal_popularity  explicit_track  \\\n",
       "23                NaN     2,100,708              NaN               1   \n",
       "28          1,612,479     1,579,980              NaN               0   \n",
       "29                NaN     4,474,248              NaN               1   \n",
       "35                NaN     3,692,067              NaN               0   \n",
       "41                NaN           NaN              NaN               1   \n",
       "42          8,007,236    10,973,120              NaN               1   \n",
       "56                NaN     6,205,060              NaN               1   \n",
       "64                NaN           NaN              NaN               1   \n",
       "68          5,418,596     4,476,509              NaN               0   \n",
       "72                NaN     2,237,762              NaN               0   \n",
       "\n",
       "   release_year release_month  \n",
       "23         2024      February  \n",
       "28         2024         March  \n",
       "29         2024         April  \n",
       "35         2024         April  \n",
       "41         2023         April  \n",
       "42         2022        August  \n",
       "56         2022      December  \n",
       "64         2024         March  \n",
       "68         2023          July  \n",
       "72         2023       January  \n",
       "\n",
       "[10 rows x 31 columns]"
      ]
     },
     "execution_count": 129,
     "metadata": {},
     "output_type": "execute_result"
    }
   ],
   "source": [
    "songs_spotify[songs_spotify[\"track\"].str.contains(r\"[^a-zA-Z0-9\\s\\-\\,.!?()]\", na = False)].head(10)"
   ]
  },
  {
   "cell_type": "code",
   "execution_count": null,
   "id": "944384f2-4091-4177-a9b0-9e062a17a214",
   "metadata": {},
   "outputs": [],
   "source": [
    "#problematic_rows = songs_spofity[songs_spofity['Track'].str.contains(r\"[^a-zA-Z0-9\\s\\-\\'.,!?()]\", na=False)]"
   ]
  },
  {
   "cell_type": "code",
   "execution_count": null,
   "id": "42d9bc53-f366-42ef-a326-e8a3d70f180c",
   "metadata": {},
   "outputs": [],
   "source": [
    "pattern = r\"[^a-zA-Z0-9\\s\\-\\',.!?()&/:_]\""
   ]
  },
  {
   "cell_type": "code",
   "execution_count": null,
   "id": "199fea97-3d10-4630-b4fb-00445aaa395a",
   "metadata": {},
   "outputs": [],
   "source": [
    "problematic_rows = songs_spotify[songs_spotify['track'].str.contains(pattern, na=False, regex=True)]"
   ]
  },
  {
   "cell_type": "code",
   "execution_count": null,
   "id": "4a3eccba-d6e1-4ba8-9edd-132890bfed6c",
   "metadata": {},
   "outputs": [],
   "source": [
    "def extract_strange_chars(s):\n",
    "    if pd.isna(s):\n",
    "        return ''\n",
    "    return ''.join(re.findall(pattern, s))\n",
    "\n",
    "songs_spofity['strange_chars'] = songs_spofity['Track'].apply(extract_strange_chars)\n",
    "songs_spofity[songs_spofity['strange_chars'] != ''][['Track', 'strange_chars']].head(10)"
   ]
  },
  {
   "cell_type": "code",
   "execution_count": null,
   "id": "abfd2620-eb61-42b4-94bc-6634396bb9ec",
   "metadata": {},
   "outputs": [],
   "source": [
    "problematic_rows_1 = songs_spofity[\n",
    "    songs_spofity['Track'].str.contains(pattern, na=False) |\n",
    "    songs_spofity['Album Name'].str.contains(pattern, na=False) |\n",
    "    songs_spofity['Artist'].str.contains(pattern, na=False)]"
   ]
  },
  {
   "cell_type": "code",
   "execution_count": null,
   "id": "a96e6e77-a170-4cd2-833c-31be7bbf14ab",
   "metadata": {},
   "outputs": [],
   "source": [
    "def try_recover(text):\n",
    "    if pd.isna(text): return text\n",
    "    try:\n",
    "        return text.encode('latin1').decode('utf-8')\n",
    "    except:\n",
    "        return text  # fallback if decoding fails\n",
    "\n",
    "songs_spofity['Track_fixed'] = songs_spofity['Track'].apply(try_recover)\n",
    "songs_spofity['Album_fixed'] = songs_spofity['Album Name'].apply(try_recover)"
   ]
  },
  {
   "cell_type": "code",
   "execution_count": null,
   "id": "8b002546-fefb-4f14-809d-504b34429b3f",
   "metadata": {},
   "outputs": [],
   "source": [
    "import re\n",
    "\n",
    "def clean_strange(text):\n",
    "    if pd.isna(text): return text\n",
    "    return re.sub(r\"ï[^a-zA-Z0-9\\s\\[\\]()\\\"']*\", '', text)\n",
    "\n",
    "songs_spofity['Track_clean'] = songs_spofity['Track'].apply(clean_strange)"
   ]
  },
  {
   "cell_type": "code",
   "execution_count": null,
   "id": "d29f34bd-486d-41bc-9060-1451605ad159",
   "metadata": {},
   "outputs": [],
   "source": [
    "pattern = r\"ï[^a-zA-Z0-9\\s\\[\\]()\\\"']*\" "
   ]
  },
  {
   "cell_type": "code",
   "execution_count": null,
   "id": "7c7c397b-e356-473a-9a6a-d7073898a9d5",
   "metadata": {},
   "outputs": [],
   "source": [
    "problematic_rows_3 = songs_spofity[songs_spofity['Track_clean'].str.contains(pattern, na=False)]"
   ]
  }
 ],
 "metadata": {
  "kernelspec": {
   "display_name": "Python (myenv)",
   "language": "python",
   "name": "myenv"
  },
  "language_info": {
   "codemirror_mode": {
    "name": "ipython",
    "version": 3
   },
   "file_extension": ".py",
   "mimetype": "text/x-python",
   "name": "python",
   "nbconvert_exporter": "python",
   "pygments_lexer": "ipython3",
   "version": "3.12.3"
  }
 },
 "nbformat": 4,
 "nbformat_minor": 5
}
